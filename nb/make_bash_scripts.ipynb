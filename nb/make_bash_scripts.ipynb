{
 "cells": [
  {
   "cell_type": "code",
   "execution_count": 2,
   "metadata": {
    "collapsed": true
   },
   "outputs": [],
   "source": [
    "import os"
   ]
  },
  {
   "cell_type": "code",
   "execution_count": 24,
   "metadata": {
    "collapsed": false
   },
   "outputs": [],
   "source": [
    "def modify_vcr_script(bash_content, gamma1, gamma2, gpu_id):\n",
    "    bash_content[1] = 'gamma1={}\\n'.format(gamma1)\n",
    "    bash_content[2] = 'gamma2={}\\n'.format(gamma2)\n",
    "    bash_content[5] = 'device={}\\n'.format(gpu_id)\n",
    "    return bash_content\n",
    "\n",
    "def save_script(script_name, bash_content):\n",
    "    with open(script_name, 'w') as f:\n",
    "        for line in bash_content:\n",
    "            f.write(line)"
   ]
  },
  {
   "cell_type": "code",
   "execution_count": 52,
   "metadata": {
    "collapsed": false
   },
   "outputs": [],
   "source": [
    "# gammas1 = ['0.0', '0.2', '0.4', '0.6', '0.8', '1.0']\n",
    "# gammas2 = ['0.0', '0.2', '0.4', '0.6', '0.8', '1.0']\n",
    "gammas1 = ['0.0']\n",
    "gammas2 = ['0.2', '0.4', '0.6', '0.8']\n",
    "# _done_tuples = [ ('0.0', '0.0'),  ('0.0', '0.2'),  ('0.0', '0.4'),  ('0.0', '0.6'),  ('0.0', '0.8'),  ('0.0', '1.0'), \\\n",
    "#                 ('0.2', '0.4'),  ('0.2', '0.8'),  ('0.4', '0.2'),  ('0.8', '0.2'),  ('0.8', '0.6'),  ('1.0', '0.0')]\n",
    "\n",
    "_done_tuples=[]\n",
    "\n",
    "base_bash = \"../bash/vcr1.sh\"\n",
    "with open(base_bash, 'r') as f:\n",
    "    base_bash_content = f.readlines()\n",
    "    \n",
    "bash_names = []\n",
    "count = 0 \n",
    "n_gpu = 4\n",
    "for gamma1 in gammas1:\n",
    "    for gamma2 in gammas2:\n",
    "        if (gamma1, gamma2) in _done_tuples:\n",
    "            continue\n",
    "        bash_name = '../bash/vcr_{}_{}.sh'.format(gamma1, gamma2)\n",
    "        bash_names.append(bash_name)\n",
    "        save_script(bash_name, modify_vcr_script(base_bash_content, gamma1, gamma2, count % n_gpu  )   )\n",
    "        count +=1            "
   ]
  },
  {
   "cell_type": "code",
   "execution_count": 53,
   "metadata": {
    "collapsed": true
   },
   "outputs": [],
   "source": [
    "main_bash_content = ['#!/bin/bash\\n']\n",
    "for bash_name in bash_names:\n",
    "    line = 'chmod +x \"./bash/{}\" && \"./bash/{}\" &\\n'.format(bash_name.split('/')[-1], bash_name.split('/')[-1])\n",
    "    main_bash_content.append(line)\n",
    "main_bash_content.append(\"wait\")\n",
    "\n",
    "save_script('../bash/main_vcr_tmp.sh', main_bash_content)"
   ]
  },
  {
   "cell_type": "code",
   "execution_count": 54,
   "metadata": {
    "collapsed": false
   },
   "outputs": [
    {
     "data": {
      "text/plain": [
       "['#!/bin/bash\\n',\n",
       " 'chmod +x \"./bash/vcr_0.0_0.2.sh\" && \"./bash/vcr_0.0_0.2.sh\" &\\n',\n",
       " 'chmod +x \"./bash/vcr_0.0_0.4.sh\" && \"./bash/vcr_0.0_0.4.sh\" &\\n',\n",
       " 'chmod +x \"./bash/vcr_0.0_0.6.sh\" && \"./bash/vcr_0.0_0.6.sh\" &\\n',\n",
       " 'chmod +x \"./bash/vcr_0.0_0.8.sh\" && \"./bash/vcr_0.0_0.8.sh\" &\\n',\n",
       " 'wait']"
      ]
     },
     "execution_count": 54,
     "metadata": {},
     "output_type": "execute_result"
    }
   ],
   "source": [
    "main_bash_content"
   ]
  },
  {
   "cell_type": "code",
   "execution_count": 55,
   "metadata": {
    "collapsed": true
   },
   "outputs": [],
   "source": [
    "def modify_pib_script(bash_content, beta1, beta2, gpu_id):\n",
    "    bash_content[1] = 'beta1={}\\n'.format(beta1)\n",
    "    bash_content[2] = 'beta2={}\\n'.format(beta2)\n",
    "    bash_content[3] = 'device={}\\n'.format(gpu_id)\n",
    "    return bash_content"
   ]
  },
  {
   "cell_type": "code",
   "execution_count": 59,
   "metadata": {
    "collapsed": true
   },
   "outputs": [],
   "source": [
    "# PIB \n",
    "betas = ['0.001', '0.0001', '0.00001', '0.000001', '0.0']\n",
    "\n",
    "_done_tuples = []\n",
    "\n",
    "base_bash = \"../bash/pib1.sh\"\n",
    "with open(base_bash, 'r') as f:\n",
    "    base_bash_content = f.readlines()\n",
    "    \n",
    "bash_names = []\n",
    "count = 0 \n",
    "n_gpu = 4\n",
    "for beta1 in betas:\n",
    "    for beta2 in betas:\n",
    "        if (beta1, beta2) in _done_tuples:\n",
    "            continue\n",
    "        bash_name = '../bash/pib_beta1.{}_beta2.{}.sh'.format(beta1, beta2)\n",
    "        bash_names.append(bash_name)\n",
    "        save_script(bash_name, modify_pib_script(base_bash_content, beta1, beta2,count % n_gpu  )   )\n",
    "        count +=1     \n",
    "        \n",
    "main_bash_content = ['#!/bin/bash\\n']\n",
    "for bash_name in bash_names:\n",
    "    line = 'chmod +x \"./bash/{}\" && \"./bash/{}\" &\\n'.format(bash_name.split('/')[-1], bash_name.split('/')[-1])\n",
    "    main_bash_content.append(line)\n",
    "main_bash_content.append(\"wait\")\n",
    "\n",
    "save_script('../bash/main_pib.sh', main_bash_content)"
   ]
  },
  {
   "cell_type": "code",
   "execution_count": 60,
   "metadata": {
    "collapsed": false
   },
   "outputs": [
    {
     "data": {
      "text/plain": [
       "['#!/bin/bash\\n',\n",
       " 'chmod +x \"./bash/pib_beta1.0.001_beta2.0.001.sh\" && \"./bash/pib_beta1.0.001_beta2.0.001.sh\" &\\n',\n",
       " 'chmod +x \"./bash/pib_beta1.0.001_beta2.0.0001.sh\" && \"./bash/pib_beta1.0.001_beta2.0.0001.sh\" &\\n',\n",
       " 'chmod +x \"./bash/pib_beta1.0.001_beta2.0.00001.sh\" && \"./bash/pib_beta1.0.001_beta2.0.00001.sh\" &\\n',\n",
       " 'chmod +x \"./bash/pib_beta1.0.001_beta2.0.000001.sh\" && \"./bash/pib_beta1.0.001_beta2.0.000001.sh\" &\\n',\n",
       " 'chmod +x \"./bash/pib_beta1.0.001_beta2.0.0.sh\" && \"./bash/pib_beta1.0.001_beta2.0.0.sh\" &\\n',\n",
       " 'chmod +x \"./bash/pib_beta1.0.0001_beta2.0.001.sh\" && \"./bash/pib_beta1.0.0001_beta2.0.001.sh\" &\\n',\n",
       " 'chmod +x \"./bash/pib_beta1.0.0001_beta2.0.0001.sh\" && \"./bash/pib_beta1.0.0001_beta2.0.0001.sh\" &\\n',\n",
       " 'chmod +x \"./bash/pib_beta1.0.0001_beta2.0.00001.sh\" && \"./bash/pib_beta1.0.0001_beta2.0.00001.sh\" &\\n',\n",
       " 'chmod +x \"./bash/pib_beta1.0.0001_beta2.0.000001.sh\" && \"./bash/pib_beta1.0.0001_beta2.0.000001.sh\" &\\n',\n",
       " 'chmod +x \"./bash/pib_beta1.0.0001_beta2.0.0.sh\" && \"./bash/pib_beta1.0.0001_beta2.0.0.sh\" &\\n',\n",
       " 'chmod +x \"./bash/pib_beta1.0.00001_beta2.0.001.sh\" && \"./bash/pib_beta1.0.00001_beta2.0.001.sh\" &\\n',\n",
       " 'chmod +x \"./bash/pib_beta1.0.00001_beta2.0.0001.sh\" && \"./bash/pib_beta1.0.00001_beta2.0.0001.sh\" &\\n',\n",
       " 'chmod +x \"./bash/pib_beta1.0.00001_beta2.0.00001.sh\" && \"./bash/pib_beta1.0.00001_beta2.0.00001.sh\" &\\n',\n",
       " 'chmod +x \"./bash/pib_beta1.0.00001_beta2.0.000001.sh\" && \"./bash/pib_beta1.0.00001_beta2.0.000001.sh\" &\\n',\n",
       " 'chmod +x \"./bash/pib_beta1.0.00001_beta2.0.0.sh\" && \"./bash/pib_beta1.0.00001_beta2.0.0.sh\" &\\n',\n",
       " 'chmod +x \"./bash/pib_beta1.0.000001_beta2.0.001.sh\" && \"./bash/pib_beta1.0.000001_beta2.0.001.sh\" &\\n',\n",
       " 'chmod +x \"./bash/pib_beta1.0.000001_beta2.0.0001.sh\" && \"./bash/pib_beta1.0.000001_beta2.0.0001.sh\" &\\n',\n",
       " 'chmod +x \"./bash/pib_beta1.0.000001_beta2.0.00001.sh\" && \"./bash/pib_beta1.0.000001_beta2.0.00001.sh\" &\\n',\n",
       " 'chmod +x \"./bash/pib_beta1.0.000001_beta2.0.000001.sh\" && \"./bash/pib_beta1.0.000001_beta2.0.000001.sh\" &\\n',\n",
       " 'chmod +x \"./bash/pib_beta1.0.000001_beta2.0.0.sh\" && \"./bash/pib_beta1.0.000001_beta2.0.0.sh\" &\\n',\n",
       " 'chmod +x \"./bash/pib_beta1.0.0_beta2.0.001.sh\" && \"./bash/pib_beta1.0.0_beta2.0.001.sh\" &\\n',\n",
       " 'chmod +x \"./bash/pib_beta1.0.0_beta2.0.0001.sh\" && \"./bash/pib_beta1.0.0_beta2.0.0001.sh\" &\\n',\n",
       " 'chmod +x \"./bash/pib_beta1.0.0_beta2.0.00001.sh\" && \"./bash/pib_beta1.0.0_beta2.0.00001.sh\" &\\n',\n",
       " 'chmod +x \"./bash/pib_beta1.0.0_beta2.0.000001.sh\" && \"./bash/pib_beta1.0.0_beta2.0.000001.sh\" &\\n',\n",
       " 'chmod +x \"./bash/pib_beta1.0.0_beta2.0.0.sh\" && \"./bash/pib_beta1.0.0_beta2.0.0.sh\" &\\n',\n",
       " 'wait']"
      ]
     },
     "execution_count": 60,
     "metadata": {},
     "output_type": "execute_result"
    }
   ],
   "source": [
    "main_bash_content"
   ]
  },
  {
   "cell_type": "code",
   "execution_count": 58,
   "metadata": {
    "collapsed": false
   },
   "outputs": [
    {
     "data": {
      "text/plain": [
       "['../bash/pib_beta1.0.001_beta2.0.001.sh',\n",
       " '../bash/pib_beta1.0.001_beta2.0.0001.sh',\n",
       " '../bash/pib_beta1.0.001_beta2.0.00001.sh',\n",
       " '../bash/pib_beta1.0.001_beta2.0.000001.sh',\n",
       " '../bash/pib_beta1.0.001_beta2.0.0.sh',\n",
       " '../bash/pib_beta1.0.0001_beta2.0.001.sh',\n",
       " '../bash/pib_beta1.0.0001_beta2.0.0001.sh',\n",
       " '../bash/pib_beta1.0.0001_beta2.0.00001.sh',\n",
       " '../bash/pib_beta1.0.0001_beta2.0.000001.sh',\n",
       " '../bash/pib_beta1.0.0001_beta2.0.0.sh',\n",
       " '../bash/pib_beta1.0.00001_beta2.0.001.sh',\n",
       " '../bash/pib_beta1.0.00001_beta2.0.0001.sh',\n",
       " '../bash/pib_beta1.0.00001_beta2.0.00001.sh',\n",
       " '../bash/pib_beta1.0.00001_beta2.0.000001.sh',\n",
       " '../bash/pib_beta1.0.00001_beta2.0.0.sh',\n",
       " '../bash/pib_beta1.0.000001_beta2.0.001.sh',\n",
       " '../bash/pib_beta1.0.000001_beta2.0.0001.sh',\n",
       " '../bash/pib_beta1.0.000001_beta2.0.00001.sh',\n",
       " '../bash/pib_beta1.0.000001_beta2.0.000001.sh',\n",
       " '../bash/pib_beta1.0.000001_beta2.0.0.sh',\n",
       " '../bash/pib_beta1.0.0_beta2.0.001.sh',\n",
       " '../bash/pib_beta1.0.0_beta2.0.0001.sh',\n",
       " '../bash/pib_beta1.0.0_beta2.0.00001.sh',\n",
       " '../bash/pib_beta1.0.0_beta2.0.000001.sh',\n",
       " '../bash/pib_beta1.0.0_beta2.0.0.sh']"
      ]
     },
     "execution_count": 58,
     "metadata": {},
     "output_type": "execute_result"
    }
   ],
   "source": [
    "bash_names"
   ]
  }
 ],
 "metadata": {
  "kernelspec": {
   "display_name": "Python 3",
   "language": "python",
   "name": "python3"
  },
  "language_info": {
   "codemirror_mode": {
    "name": "ipython",
    "version": 3
   },
   "file_extension": ".py",
   "mimetype": "text/x-python",
   "name": "python",
   "nbconvert_exporter": "python",
   "pygments_lexer": "ipython3",
   "version": "3.5.2"
  }
 },
 "nbformat": 4,
 "nbformat_minor": 0
}
