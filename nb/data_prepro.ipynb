{
 "cells": [
  {
   "cell_type": "code",
   "execution_count": 1,
   "metadata": {
    "collapsed": false
   },
   "outputs": [
    {
     "name": "stdout",
     "output_type": "stream",
     "text": [
      "PIB version:  1.0\n"
     ]
    }
   ],
   "source": [
    "import pib\n",
    "print(\"PIB version: \", pib.__version__)\n",
    "import os \n",
    "import numpy as np"
   ]
  },
  {
   "cell_type": "code",
   "execution_count": 2,
   "metadata": {
    "collapsed": false
   },
   "outputs": [],
   "source": [
    "# http://www.iro.umontreal.ca/~lisa/twiki/bin/view.cgi/Public/DeepVsShallowComparisonICML2007\n",
    "\n",
    "# data_utils.py\n",
    "def amat_to_np(amat_file):\n",
    "    data = []\n",
    "    with open(amat_file, 'r') as f:\n",
    "        line = f.readline()\n",
    "        while line:\n",
    "            data.append(list(map(float, line.split())) )\n",
    "            line = f.readline()\n",
    "    data = np.array(data, dtype=np.float32)\n",
    "    return data[:, :-1], data[:,-1]\n",
    "\n",
    "\n",
    "def list_all_files(dir_name):\n",
    "    \"\"\"Lists all files that have the current directory as their root. \n",
    "    \"\"\"\n",
    "    all_files = []\n",
    "    for entry in os.listdir(dir_name): \n",
    "        full_path_entry = os.path.join(dir_name, entry)\n",
    "        if os.path.isdir(full_path_entry):\n",
    "            all_files = all_files + list_all_files(full_path_entry) # Merge two lists\n",
    "        else:\n",
    "            all_files.append(full_path_entry) # Appends an element to a list\n",
    "    return all_files\n",
    "\n",
    "def data_prepro(data_path, target_path, verbose=True):\n",
    "    \"\"\"Processes mnist-variant amat into mnist-variant numpy arrays. \n",
    "    \n",
    "    It preserves the same directory tree structure of `data_path` to `target_path`. \n",
    "    \n",
    "    # Arguments\n",
    "        data_path: A full path to the mnist-variant data directory which is organized after `./download.sh`. \n",
    "        target_path: A full path to a directory where the numpy arrays will be saved. \n",
    "    \"\"\"\n",
    "    variants = os.listdir(data_path)\n",
    "    variants = [ variant for variant in variants if os.path.isdir(os.path.join(data_path, variant)) ] \n",
    "    for variant in variants:\n",
    "        if verbose:\n",
    "            print(variant)\n",
    "        # Make dir within target_path\n",
    "        variant_target = os.path.join(target_path,  variant)\n",
    "        if not os.path.exists(variant_target):\n",
    "            os.makedirs(variant_target)\n",
    "        variant_files = list_all_files(os.path.join(data_path, variant))\n",
    "        \n",
    "        for amat in variant_files:\n",
    "            postfix = amat.split('/')[-1].split('.')[0].split('_')[-1]\n",
    "            if postfix == 'valid':\n",
    "                postfix = 'train'\n",
    "            x_name = os.path.join(variant_target, 'X_{}.npy'.format(postfix))\n",
    "            y_name = os.path.join(variant_target, 'Y_{}.npy'.format(postfix))\n",
    "            if os.path.exists(x_name) and  os.path.exists(y_name):\n",
    "                continue \n",
    "            x,y = amat_to_np(amat)\n",
    "            np.save(x_name, x)\n",
    "            np.save(y_name, y)"
   ]
  },
  {
   "cell_type": "code",
   "execution_count": 3,
   "metadata": {
    "collapsed": false
   },
   "outputs": [
    {
     "name": "stdout",
     "output_type": "stream",
     "text": [
      "mnist_rotation_back_image_new\n",
      "mnist_rotation_new\n",
      "mnist_background_random\n",
      "rectangles\n",
      "mnist\n",
      "convex\n",
      "mnist_background_images\n",
      "rectangles_images\n"
     ]
    }
   ],
   "source": [
    "data_path= 'data/mnist-variant/amat'\n",
    "target_path = 'data/mnist-variant/np'\n",
    "data_prepro(data_path, target_path)"
   ]
  }
 ],
 "metadata": {
  "kernelspec": {
   "display_name": "Python 3",
   "language": "python",
   "name": "python3"
  },
  "language_info": {
   "codemirror_mode": {
    "name": "ipython",
    "version": 3
   },
   "file_extension": ".py",
   "mimetype": "text/x-python",
   "name": "python",
   "nbconvert_exporter": "python",
   "pygments_lexer": "ipython3",
   "version": "3.5.2"
  }
 },
 "nbformat": 4,
 "nbformat_minor": 0
}
