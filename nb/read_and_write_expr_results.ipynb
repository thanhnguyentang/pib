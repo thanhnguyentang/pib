{
 "cells": [
  {
   "cell_type": "code",
   "execution_count": 1,
   "metadata": {
    "collapsed": false
   },
   "outputs": [],
   "source": [
    "import os \n",
    "import numpy as np \n",
    "import json"
   ]
  },
  {
   "cell_type": "code",
   "execution_count": 2,
   "metadata": {
    "collapsed": true
   },
   "outputs": [],
   "source": [
    "def read_report(expr_dir):\n",
    "    test_mode=['val', 'test']\n",
    "    data = {}\n",
    "    for mode in test_mode:\n",
    "        report = os.path.join(expr_dir, 'report-trained.val-tested.{}.json'.format(mode))\n",
    "        with open(report, 'r') as f:\n",
    "            data[mode] = json.load(f)\n",
    "    return data"
   ]
  },
  {
   "cell_type": "markdown",
   "metadata": {},
   "source": [
    "# BETAS"
   ]
  },
  {
   "cell_type": "code",
   "execution_count": 69,
   "metadata": {
    "collapsed": false
   },
   "outputs": [
    {
     "name": "stdout",
     "output_type": "stream",
     "text": [
      "1.4304633333333334 0.0006441556555555592\n",
      "1.421999999999999 0.0006093333333332924\n",
      "1.1689666666666667 0.0023402322222222318\n",
      "1.1633333333333347 0.0036555555555555625\n"
     ]
    }
   ],
   "source": [
    "# Read SFNN\n",
    "run_dir = '../../pib_run/train'\n",
    "particles='32,32'\n",
    "gamma1='1.0'\n",
    "gamma2='1.0'\n",
    "beta1='0.0001'\n",
    "beta2='0.0001'\n",
    "\n",
    "sto_val = np.zeros((30,))\n",
    "sto_test = np.zeros((30,))\n",
    "det_val = np.zeros((30,))\n",
    "det_test =np.zeros((30,))\n",
    "metric_val = np.zeros((30,))\n",
    "for i in range(30):\n",
    "    run = str(i+1)\n",
    "    model_name=\"PIB.512x2.adamax.0.01.g1.{}-g2.{}-beta1.{}-beta2.{}-run.{}\".format(gamma1, gamma2, beta1, beta2, run)\n",
    "    data = read_report(os.path.join(run_dir, model_name), particles)\n",
    "    sto_val[i] = data['val']['pib_test_err_mean']\n",
    "    sto_test[i] = data['test']['pib_test_err_mean']\n",
    "    det_val[i] = data['val']['det_test_err']\n",
    "    det_test[i] = data['test']['det_test_err']\n",
    "    metric_val[i] = data['val']['stochastic_metric']\n",
    "    \n",
    "print(np.mean(sto_test), np.var(sto_test))\n",
    "print(np.mean(det_test), np.var(det_test))\n",
    "print(np.mean(sto_val), np.var(sto_val))\n",
    "print(np.mean(det_val), np.var(det_val))"
   ]
  },
  {
   "cell_type": "markdown",
   "metadata": {},
   "source": [
    "# VCR "
   ]
  },
  {
   "cell_type": "code",
   "execution_count": 102,
   "metadata": {
    "collapsed": false
   },
   "outputs": [],
   "source": [
    "# Read VCR\n",
    "NUM_RUNS=15\n",
    "run_dir = '../../pib_run/train'\n",
    "particles='32,32'\n",
    "\n",
    "gammas1 = ['0.0', '0.2', '0.4', '0.6', '0.8', '1.0']\n",
    "gammas2 = ['0.0', '0.2', '0.4', '0.6', '0.8', '1.0']\n",
    "\n",
    "hyperparam1 = []\n",
    "hyperparam2 = []\n",
    "hyperparam = []\n",
    "sto_test_mean = []\n",
    "sto_test_var = []\n",
    "det_test_mean = []\n",
    "det_test_var = []\n",
    "sto_val_mean = []\n",
    "sto_val_var = []\n",
    "det_val_mean = []\n",
    "det_val_var = []\n",
    "\n",
    "for gamma1 in gammas1:\n",
    "    for gamma2 in gammas2:\n",
    "        hyperparam1.append(gamma1)\n",
    "        hyperparam2.append(gamma2)\n",
    "        hyperparam.append('gamma1.{},gamma2.{}'.format(gamma1, gamma2))\n",
    "        sto_val = np.zeros((NUM_RUNS,))\n",
    "        sto_test = np.zeros((NUM_RUNS,))\n",
    "        det_val = np.zeros((NUM_RUNS,))\n",
    "        det_test =np.zeros((NUM_RUNS,))\n",
    "        metric_val = np.zeros((NUM_RUNS,))\n",
    "        for i in range(NUM_RUNS):\n",
    "            run = str(i+1)\n",
    "            model_name=\"VCR.512x2.adamax.0.01.g1.{}-g2.{}-run.{}\".format(gamma1, gamma2, run)\n",
    "            data = read_report(os.path.join(run_dir, model_name), particles)\n",
    "            sto_val[i] = data['val']['pib_test_err_mean']\n",
    "            sto_test[i] = data['test']['pib_test_err_mean']\n",
    "            det_val[i] = data['val']['det_test_err']\n",
    "            det_test[i] = data['test']['det_test_err']\n",
    "            metric_val[i] = data['val']['stochastic_metric']\n",
    "        \n",
    "        sto_test_mean.append(np.mean(sto_test))\n",
    "        sto_test_var.append(np.var(sto_test))\n",
    "        det_test_mean.append(np.mean(det_test))\n",
    "        det_test_var.append(np.var(det_test))\n",
    "        sto_val_mean.append(np.mean(sto_val))\n",
    "        sto_val_var.append(np.var(sto_val))\n",
    "        det_val_mean.append(np.mean(det_val))\n",
    "        det_val_var.append(np.var(det_val))\n",
    "        \n",
    "import pandas as pd\n",
    "from pandas import ExcelWriter\n",
    "from pandas import ExcelFile\n",
    " \n",
    "df = pd.DataFrame({'gamma': hyperparam, \n",
    "                   'gamma1': hyperparam1,\n",
    "                   'gamma2': hyperparam2, \n",
    "                   'sto_test_mean': sto_test_mean, \n",
    "                   'sto_test_var': sto_test_var, \n",
    "                   'det_test_mean': det_test_mean, \n",
    "                   'det_test_var': det_test_var, \n",
    "                   'sto_val_mean': sto_val_mean, \n",
    "                   'sto_val_var': sto_val_var, \n",
    "                   'det_val_mean': det_val_mean, \n",
    "                   'det_val_var': det_val_var})\n",
    " \n",
    "writer = ExcelWriter('VCR_{}runs.xlsx'.format(NUM_RUNS))\n",
    "df.to_excel(writer,'VCR.512x2.adamax.0.01',index=False)\n",
    "writer.save()"
   ]
  },
  {
   "cell_type": "markdown",
   "metadata": {},
   "source": [
    "# PIB"
   ]
  },
  {
   "cell_type": "code",
   "execution_count": 98,
   "metadata": {
    "collapsed": true
   },
   "outputs": [],
   "source": [
    "gammas = ['0.0', '0.2', '0.4', '0.6', '0.8', '1.0']\n",
    "betas = ['1.0', '0.1', '0.01', '0.001', '0.0001', '0.00001']\n",
    "\n",
    "hyperparam1 = []\n",
    "hyperparam2 = []\n",
    "hyperparam = []\n",
    "sto_test_mean = []\n",
    "sto_test_var = []\n",
    "det_test_mean = []\n",
    "det_test_var = []\n",
    "sto_val_mean = []\n",
    "sto_val_var = []\n",
    "det_val_mean = []\n",
    "det_val_var = []\n",
    "\n",
    "for gamma in gammas:\n",
    "    for beta in betas:\n",
    "        hyperparam1.append(gamma)\n",
    "        hyperparam2.append(beta)\n",
    "        hyperparam.append('gamma.{},beta.{}'.format(gamma, beta))\n",
    "        sto_val = np.zeros((30,))\n",
    "        sto_test = np.zeros((30,))\n",
    "        det_val = np.zeros((30,))\n",
    "        det_test =np.zeros((30,))\n",
    "        metric_val = np.zeros((30,))\n",
    "        for i in range(30):\n",
    "            run = str(i+1)\n",
    "            model_name=\"PIB.512x2.adamax.0.01.g1.{}-g2.{}-beta1.{}-beta2.{}-run.{}\".format(gamma, gamma,beta,beta, run)\n",
    "            data = read_report(os.path.join(run_dir, model_name), particles)\n",
    "            sto_val[i] = data['val']['pib_test_err_mean']\n",
    "            sto_test[i] = data['test']['pib_test_err_mean']\n",
    "            det_val[i] = data['val']['det_test_err']\n",
    "            det_test[i] = data['test']['det_test_err']\n",
    "            metric_val[i] = data['val']['stochastic_metric']\n",
    "        \n",
    "        sto_test_mean.append(np.mean(sto_test))\n",
    "        sto_test_var.append(np.var(sto_test))\n",
    "        det_test_mean.append(np.mean(det_test))\n",
    "        det_test_var.append(np.var(det_test))\n",
    "        sto_val_mean.append(np.mean(sto_val))\n",
    "        sto_val_var.append(np.var(sto_val))\n",
    "        det_val_mean.append(np.mean(det_val))\n",
    "        det_val_var.append(np.var(det_val))\n",
    "        \n",
    "import pandas as pd\n",
    "from pandas import ExcelWriter\n",
    "from pandas import ExcelFile\n",
    " \n",
    "df = pd.DataFrame({ 'gamma_beta': hyperparam, \n",
    "                   'gamma': hyperparam1,\n",
    "                   'beta': hyperparam2, \n",
    "                   'sto_test_mean': sto_test_mean, \n",
    "                   'sto_test_var': sto_test_var, \n",
    "                   'det_test_mean': det_test_mean, \n",
    "                   'det_test_var': det_test_var, \n",
    "                   'sto_val_mean': sto_val_mean, \n",
    "                   'sto_val_var': sto_val_var, \n",
    "                   'det_val_mean': det_val_mean, \n",
    "                   'det_val_var': det_val_var})\n",
    " \n",
    "writer = ExcelWriter('PIB.xlsx')\n",
    "df.to_excel(writer,'PIB.512x2.adamax.0.01',index=False)\n",
    "writer.save()"
   ]
  }
 ],
 "metadata": {
  "kernelspec": {
   "display_name": "Python 3",
   "language": "python",
   "name": "python3"
  },
  "language_info": {
   "codemirror_mode": {
    "name": "ipython",
    "version": 3
   },
   "file_extension": ".py",
   "mimetype": "text/x-python",
   "name": "python",
   "nbconvert_exporter": "python",
   "pygments_lexer": "ipython3",
   "version": "3.5.2"
  }
 },
 "nbformat": 4,
 "nbformat_minor": 0
}
